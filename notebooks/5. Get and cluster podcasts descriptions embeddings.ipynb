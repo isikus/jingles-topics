{
  "nbformat": 4,
  "nbformat_minor": 0,
  "metadata": {
    "colab": {
      "name": "Get podcasts descriptions embeddings.ipynb",
      "provenance": [],
      "collapsed_sections": []
    },
    "kernelspec": {
      "name": "python3",
      "display_name": "Python 3"
    },
    "language_info": {
      "name": "python"
    },
    "widgets": {
      "application/vnd.jupyter.widget-state+json": {
        "15149c5bbfa34d7c8e2cc825dc6fb624": {
          "model_module": "@jupyter-widgets/controls",
          "model_name": "HBoxModel",
          "state": {
            "_view_name": "HBoxView",
            "_dom_classes": [],
            "_model_name": "HBoxModel",
            "_view_module": "@jupyter-widgets/controls",
            "_model_module_version": "1.5.0",
            "_view_count": null,
            "_view_module_version": "1.5.0",
            "box_style": "",
            "layout": "IPY_MODEL_429f3767a81c4ec69ce1b2eff5a1c644",
            "_model_module": "@jupyter-widgets/controls",
            "children": [
              "IPY_MODEL_d92b3748a9c64584b8624e5ba65d49e9",
              "IPY_MODEL_e9a31b084971481f99d0cd9bff2e1ceb"
            ]
          }
        },
        "429f3767a81c4ec69ce1b2eff5a1c644": {
          "model_module": "@jupyter-widgets/base",
          "model_name": "LayoutModel",
          "state": {
            "_view_name": "LayoutView",
            "grid_template_rows": null,
            "right": null,
            "justify_content": null,
            "_view_module": "@jupyter-widgets/base",
            "overflow": null,
            "_model_module_version": "1.2.0",
            "_view_count": null,
            "flex_flow": null,
            "width": null,
            "min_width": null,
            "border": null,
            "align_items": null,
            "bottom": null,
            "_model_module": "@jupyter-widgets/base",
            "top": null,
            "grid_column": null,
            "overflow_y": null,
            "overflow_x": null,
            "grid_auto_flow": null,
            "grid_area": null,
            "grid_template_columns": null,
            "flex": null,
            "_model_name": "LayoutModel",
            "justify_items": null,
            "grid_row": null,
            "max_height": null,
            "align_content": null,
            "visibility": null,
            "align_self": null,
            "height": null,
            "min_height": null,
            "padding": null,
            "grid_auto_rows": null,
            "grid_gap": null,
            "max_width": null,
            "order": null,
            "_view_module_version": "1.2.0",
            "grid_template_areas": null,
            "object_position": null,
            "object_fit": null,
            "grid_auto_columns": null,
            "margin": null,
            "display": null,
            "left": null
          }
        },
        "d92b3748a9c64584b8624e5ba65d49e9": {
          "model_module": "@jupyter-widgets/controls",
          "model_name": "FloatProgressModel",
          "state": {
            "_view_name": "ProgressView",
            "style": "IPY_MODEL_595e31dbfbcd4d14b699876bd1a7f50f",
            "_dom_classes": [],
            "description": "100%",
            "_model_name": "FloatProgressModel",
            "bar_style": "success",
            "max": 1014059776,
            "_view_module": "@jupyter-widgets/controls",
            "_model_module_version": "1.5.0",
            "value": 1014059776,
            "_view_count": null,
            "_view_module_version": "1.5.0",
            "orientation": "horizontal",
            "min": 0,
            "description_tooltip": null,
            "_model_module": "@jupyter-widgets/controls",
            "layout": "IPY_MODEL_0a182ba02a9a44b089a925f822bba98a"
          }
        },
        "e9a31b084971481f99d0cd9bff2e1ceb": {
          "model_module": "@jupyter-widgets/controls",
          "model_name": "HTMLModel",
          "state": {
            "_view_name": "HTMLView",
            "style": "IPY_MODEL_038d9328acd54b89bdc11f872b1f0908",
            "_dom_classes": [],
            "description": "",
            "_model_name": "HTMLModel",
            "placeholder": "​",
            "_view_module": "@jupyter-widgets/controls",
            "_model_module_version": "1.5.0",
            "value": " 1.01G/1.01G [00:52&lt;00:00, 19.4MB/s]",
            "_view_count": null,
            "_view_module_version": "1.5.0",
            "description_tooltip": null,
            "_model_module": "@jupyter-widgets/controls",
            "layout": "IPY_MODEL_57be56ef6ed247c7ad14a01bcb41605d"
          }
        },
        "595e31dbfbcd4d14b699876bd1a7f50f": {
          "model_module": "@jupyter-widgets/controls",
          "model_name": "ProgressStyleModel",
          "state": {
            "_view_name": "StyleView",
            "_model_name": "ProgressStyleModel",
            "description_width": "initial",
            "_view_module": "@jupyter-widgets/base",
            "_model_module_version": "1.5.0",
            "_view_count": null,
            "_view_module_version": "1.2.0",
            "bar_color": null,
            "_model_module": "@jupyter-widgets/controls"
          }
        },
        "0a182ba02a9a44b089a925f822bba98a": {
          "model_module": "@jupyter-widgets/base",
          "model_name": "LayoutModel",
          "state": {
            "_view_name": "LayoutView",
            "grid_template_rows": null,
            "right": null,
            "justify_content": null,
            "_view_module": "@jupyter-widgets/base",
            "overflow": null,
            "_model_module_version": "1.2.0",
            "_view_count": null,
            "flex_flow": null,
            "width": null,
            "min_width": null,
            "border": null,
            "align_items": null,
            "bottom": null,
            "_model_module": "@jupyter-widgets/base",
            "top": null,
            "grid_column": null,
            "overflow_y": null,
            "overflow_x": null,
            "grid_auto_flow": null,
            "grid_area": null,
            "grid_template_columns": null,
            "flex": null,
            "_model_name": "LayoutModel",
            "justify_items": null,
            "grid_row": null,
            "max_height": null,
            "align_content": null,
            "visibility": null,
            "align_self": null,
            "height": null,
            "min_height": null,
            "padding": null,
            "grid_auto_rows": null,
            "grid_gap": null,
            "max_width": null,
            "order": null,
            "_view_module_version": "1.2.0",
            "grid_template_areas": null,
            "object_position": null,
            "object_fit": null,
            "grid_auto_columns": null,
            "margin": null,
            "display": null,
            "left": null
          }
        },
        "038d9328acd54b89bdc11f872b1f0908": {
          "model_module": "@jupyter-widgets/controls",
          "model_name": "DescriptionStyleModel",
          "state": {
            "_view_name": "StyleView",
            "_model_name": "DescriptionStyleModel",
            "description_width": "",
            "_view_module": "@jupyter-widgets/base",
            "_model_module_version": "1.5.0",
            "_view_count": null,
            "_view_module_version": "1.2.0",
            "_model_module": "@jupyter-widgets/controls"
          }
        },
        "57be56ef6ed247c7ad14a01bcb41605d": {
          "model_module": "@jupyter-widgets/base",
          "model_name": "LayoutModel",
          "state": {
            "_view_name": "LayoutView",
            "grid_template_rows": null,
            "right": null,
            "justify_content": null,
            "_view_module": "@jupyter-widgets/base",
            "overflow": null,
            "_model_module_version": "1.2.0",
            "_view_count": null,
            "flex_flow": null,
            "width": null,
            "min_width": null,
            "border": null,
            "align_items": null,
            "bottom": null,
            "_model_module": "@jupyter-widgets/base",
            "top": null,
            "grid_column": null,
            "overflow_y": null,
            "overflow_x": null,
            "grid_auto_flow": null,
            "grid_area": null,
            "grid_template_columns": null,
            "flex": null,
            "_model_name": "LayoutModel",
            "justify_items": null,
            "grid_row": null,
            "max_height": null,
            "align_content": null,
            "visibility": null,
            "align_self": null,
            "height": null,
            "min_height": null,
            "padding": null,
            "grid_auto_rows": null,
            "grid_gap": null,
            "max_width": null,
            "order": null,
            "_view_module_version": "1.2.0",
            "grid_template_areas": null,
            "object_position": null,
            "object_fit": null,
            "grid_auto_columns": null,
            "margin": null,
            "display": null,
            "left": null
          }
        },
        "8784846e403f43d8bcf7c27c5137ea62": {
          "model_module": "@jupyter-widgets/controls",
          "model_name": "HBoxModel",
          "state": {
            "_view_name": "HBoxView",
            "_dom_classes": [],
            "_model_name": "HBoxModel",
            "_view_module": "@jupyter-widgets/controls",
            "_model_module_version": "1.5.0",
            "_view_count": null,
            "_view_module_version": "1.5.0",
            "box_style": "",
            "layout": "IPY_MODEL_7f5e85d20457432ba287d95d8d605376",
            "_model_module": "@jupyter-widgets/controls",
            "children": [
              "IPY_MODEL_9cf1d83baf954d17a368d16bc5be3222",
              "IPY_MODEL_e1c61ec5636149feb895713e79d42916"
            ]
          }
        },
        "7f5e85d20457432ba287d95d8d605376": {
          "model_module": "@jupyter-widgets/base",
          "model_name": "LayoutModel",
          "state": {
            "_view_name": "LayoutView",
            "grid_template_rows": null,
            "right": null,
            "justify_content": null,
            "_view_module": "@jupyter-widgets/base",
            "overflow": null,
            "_model_module_version": "1.2.0",
            "_view_count": null,
            "flex_flow": null,
            "width": null,
            "min_width": null,
            "border": null,
            "align_items": null,
            "bottom": null,
            "_model_module": "@jupyter-widgets/base",
            "top": null,
            "grid_column": null,
            "overflow_y": null,
            "overflow_x": null,
            "grid_auto_flow": null,
            "grid_area": null,
            "grid_template_columns": null,
            "flex": null,
            "_model_name": "LayoutModel",
            "justify_items": null,
            "grid_row": null,
            "max_height": null,
            "align_content": null,
            "visibility": null,
            "align_self": null,
            "height": null,
            "min_height": null,
            "padding": null,
            "grid_auto_rows": null,
            "grid_gap": null,
            "max_width": null,
            "order": null,
            "_view_module_version": "1.2.0",
            "grid_template_areas": null,
            "object_position": null,
            "object_fit": null,
            "grid_auto_columns": null,
            "margin": null,
            "display": null,
            "left": null
          }
        },
        "9cf1d83baf954d17a368d16bc5be3222": {
          "model_module": "@jupyter-widgets/controls",
          "model_name": "FloatProgressModel",
          "state": {
            "_view_name": "ProgressView",
            "style": "IPY_MODEL_d0275df212d34b9687e1dfb27f83b8e2",
            "_dom_classes": [],
            "description": "100%",
            "_model_name": "FloatProgressModel",
            "bar_style": "success",
            "max": 91,
            "_view_module": "@jupyter-widgets/controls",
            "_model_module_version": "1.5.0",
            "value": 91,
            "_view_count": null,
            "_view_module_version": "1.5.0",
            "orientation": "horizontal",
            "min": 0,
            "description_tooltip": null,
            "_model_module": "@jupyter-widgets/controls",
            "layout": "IPY_MODEL_bab50c9b5aeb4c99805cc68e251a5791"
          }
        },
        "e1c61ec5636149feb895713e79d42916": {
          "model_module": "@jupyter-widgets/controls",
          "model_name": "HTMLModel",
          "state": {
            "_view_name": "HTMLView",
            "style": "IPY_MODEL_50fcb44999634b3987ed5b6b0127b235",
            "_dom_classes": [],
            "description": "",
            "_model_name": "HTMLModel",
            "placeholder": "​",
            "_view_module": "@jupyter-widgets/controls",
            "_model_module_version": "1.5.0",
            "value": " 91/91 [00:37&lt;00:00,  2.45it/s]",
            "_view_count": null,
            "_view_module_version": "1.5.0",
            "description_tooltip": null,
            "_model_module": "@jupyter-widgets/controls",
            "layout": "IPY_MODEL_94c782a83f0448b787e66333a7e1b1a8"
          }
        },
        "d0275df212d34b9687e1dfb27f83b8e2": {
          "model_module": "@jupyter-widgets/controls",
          "model_name": "ProgressStyleModel",
          "state": {
            "_view_name": "StyleView",
            "_model_name": "ProgressStyleModel",
            "description_width": "initial",
            "_view_module": "@jupyter-widgets/base",
            "_model_module_version": "1.5.0",
            "_view_count": null,
            "_view_module_version": "1.2.0",
            "bar_color": null,
            "_model_module": "@jupyter-widgets/controls"
          }
        },
        "bab50c9b5aeb4c99805cc68e251a5791": {
          "model_module": "@jupyter-widgets/base",
          "model_name": "LayoutModel",
          "state": {
            "_view_name": "LayoutView",
            "grid_template_rows": null,
            "right": null,
            "justify_content": null,
            "_view_module": "@jupyter-widgets/base",
            "overflow": null,
            "_model_module_version": "1.2.0",
            "_view_count": null,
            "flex_flow": null,
            "width": null,
            "min_width": null,
            "border": null,
            "align_items": null,
            "bottom": null,
            "_model_module": "@jupyter-widgets/base",
            "top": null,
            "grid_column": null,
            "overflow_y": null,
            "overflow_x": null,
            "grid_auto_flow": null,
            "grid_area": null,
            "grid_template_columns": null,
            "flex": null,
            "_model_name": "LayoutModel",
            "justify_items": null,
            "grid_row": null,
            "max_height": null,
            "align_content": null,
            "visibility": null,
            "align_self": null,
            "height": null,
            "min_height": null,
            "padding": null,
            "grid_auto_rows": null,
            "grid_gap": null,
            "max_width": null,
            "order": null,
            "_view_module_version": "1.2.0",
            "grid_template_areas": null,
            "object_position": null,
            "object_fit": null,
            "grid_auto_columns": null,
            "margin": null,
            "display": null,
            "left": null
          }
        },
        "50fcb44999634b3987ed5b6b0127b235": {
          "model_module": "@jupyter-widgets/controls",
          "model_name": "DescriptionStyleModel",
          "state": {
            "_view_name": "StyleView",
            "_model_name": "DescriptionStyleModel",
            "description_width": "",
            "_view_module": "@jupyter-widgets/base",
            "_model_module_version": "1.5.0",
            "_view_count": null,
            "_view_module_version": "1.2.0",
            "_model_module": "@jupyter-widgets/controls"
          }
        },
        "94c782a83f0448b787e66333a7e1b1a8": {
          "model_module": "@jupyter-widgets/base",
          "model_name": "LayoutModel",
          "state": {
            "_view_name": "LayoutView",
            "grid_template_rows": null,
            "right": null,
            "justify_content": null,
            "_view_module": "@jupyter-widgets/base",
            "overflow": null,
            "_model_module_version": "1.2.0",
            "_view_count": null,
            "flex_flow": null,
            "width": null,
            "min_width": null,
            "border": null,
            "align_items": null,
            "bottom": null,
            "_model_module": "@jupyter-widgets/base",
            "top": null,
            "grid_column": null,
            "overflow_y": null,
            "overflow_x": null,
            "grid_auto_flow": null,
            "grid_area": null,
            "grid_template_columns": null,
            "flex": null,
            "_model_name": "LayoutModel",
            "justify_items": null,
            "grid_row": null,
            "max_height": null,
            "align_content": null,
            "visibility": null,
            "align_self": null,
            "height": null,
            "min_height": null,
            "padding": null,
            "grid_auto_rows": null,
            "grid_gap": null,
            "max_width": null,
            "order": null,
            "_view_module_version": "1.2.0",
            "grid_template_areas": null,
            "object_position": null,
            "object_fit": null,
            "grid_auto_columns": null,
            "margin": null,
            "display": null,
            "left": null
          }
        },
        "aac494eef9754abe8e2b187ea1421130": {
          "model_module": "@jupyter-widgets/controls",
          "model_name": "HBoxModel",
          "state": {
            "_view_name": "HBoxView",
            "_dom_classes": [],
            "_model_name": "HBoxModel",
            "_view_module": "@jupyter-widgets/controls",
            "_model_module_version": "1.5.0",
            "_view_count": null,
            "_view_module_version": "1.5.0",
            "box_style": "",
            "layout": "IPY_MODEL_9ad507ff14ca4eb5ac3511810673dcba",
            "_model_module": "@jupyter-widgets/controls",
            "children": [
              "IPY_MODEL_72c8c09bdcb74f56921620b503694f6c",
              "IPY_MODEL_f76e41d0e0b245278dae668da2badfc6"
            ]
          }
        },
        "9ad507ff14ca4eb5ac3511810673dcba": {
          "model_module": "@jupyter-widgets/base",
          "model_name": "LayoutModel",
          "state": {
            "_view_name": "LayoutView",
            "grid_template_rows": null,
            "right": null,
            "justify_content": null,
            "_view_module": "@jupyter-widgets/base",
            "overflow": null,
            "_model_module_version": "1.2.0",
            "_view_count": null,
            "flex_flow": null,
            "width": null,
            "min_width": null,
            "border": null,
            "align_items": null,
            "bottom": null,
            "_model_module": "@jupyter-widgets/base",
            "top": null,
            "grid_column": null,
            "overflow_y": null,
            "overflow_x": null,
            "grid_auto_flow": null,
            "grid_area": null,
            "grid_template_columns": null,
            "flex": null,
            "_model_name": "LayoutModel",
            "justify_items": null,
            "grid_row": null,
            "max_height": null,
            "align_content": null,
            "visibility": null,
            "align_self": null,
            "height": null,
            "min_height": null,
            "padding": null,
            "grid_auto_rows": null,
            "grid_gap": null,
            "max_width": null,
            "order": null,
            "_view_module_version": "1.2.0",
            "grid_template_areas": null,
            "object_position": null,
            "object_fit": null,
            "grid_auto_columns": null,
            "margin": null,
            "display": null,
            "left": null
          }
        },
        "72c8c09bdcb74f56921620b503694f6c": {
          "model_module": "@jupyter-widgets/controls",
          "model_name": "FloatProgressModel",
          "state": {
            "_view_name": "ProgressView",
            "style": "IPY_MODEL_80b127703d244e58946541d4213d979b",
            "_dom_classes": [],
            "description": "100%",
            "_model_name": "FloatProgressModel",
            "bar_style": "success",
            "max": 91,
            "_view_module": "@jupyter-widgets/controls",
            "_model_module_version": "1.5.0",
            "value": 91,
            "_view_count": null,
            "_view_module_version": "1.5.0",
            "orientation": "horizontal",
            "min": 0,
            "description_tooltip": null,
            "_model_module": "@jupyter-widgets/controls",
            "layout": "IPY_MODEL_60577dfd352f446eb80e8cfeab453b37"
          }
        },
        "f76e41d0e0b245278dae668da2badfc6": {
          "model_module": "@jupyter-widgets/controls",
          "model_name": "HTMLModel",
          "state": {
            "_view_name": "HTMLView",
            "style": "IPY_MODEL_a1516d7948cc4045909072bf053b2d8f",
            "_dom_classes": [],
            "description": "",
            "_model_name": "HTMLModel",
            "placeholder": "​",
            "_view_module": "@jupyter-widgets/controls",
            "_model_module_version": "1.5.0",
            "value": " 91/91 [05:44&lt;00:00,  3.79s/it]",
            "_view_count": null,
            "_view_module_version": "1.5.0",
            "description_tooltip": null,
            "_model_module": "@jupyter-widgets/controls",
            "layout": "IPY_MODEL_6879836ab48c4a2f98295ac56133c034"
          }
        },
        "80b127703d244e58946541d4213d979b": {
          "model_module": "@jupyter-widgets/controls",
          "model_name": "ProgressStyleModel",
          "state": {
            "_view_name": "StyleView",
            "_model_name": "ProgressStyleModel",
            "description_width": "initial",
            "_view_module": "@jupyter-widgets/base",
            "_model_module_version": "1.5.0",
            "_view_count": null,
            "_view_module_version": "1.2.0",
            "bar_color": null,
            "_model_module": "@jupyter-widgets/controls"
          }
        },
        "60577dfd352f446eb80e8cfeab453b37": {
          "model_module": "@jupyter-widgets/base",
          "model_name": "LayoutModel",
          "state": {
            "_view_name": "LayoutView",
            "grid_template_rows": null,
            "right": null,
            "justify_content": null,
            "_view_module": "@jupyter-widgets/base",
            "overflow": null,
            "_model_module_version": "1.2.0",
            "_view_count": null,
            "flex_flow": null,
            "width": null,
            "min_width": null,
            "border": null,
            "align_items": null,
            "bottom": null,
            "_model_module": "@jupyter-widgets/base",
            "top": null,
            "grid_column": null,
            "overflow_y": null,
            "overflow_x": null,
            "grid_auto_flow": null,
            "grid_area": null,
            "grid_template_columns": null,
            "flex": null,
            "_model_name": "LayoutModel",
            "justify_items": null,
            "grid_row": null,
            "max_height": null,
            "align_content": null,
            "visibility": null,
            "align_self": null,
            "height": null,
            "min_height": null,
            "padding": null,
            "grid_auto_rows": null,
            "grid_gap": null,
            "max_width": null,
            "order": null,
            "_view_module_version": "1.2.0",
            "grid_template_areas": null,
            "object_position": null,
            "object_fit": null,
            "grid_auto_columns": null,
            "margin": null,
            "display": null,
            "left": null
          }
        },
        "a1516d7948cc4045909072bf053b2d8f": {
          "model_module": "@jupyter-widgets/controls",
          "model_name": "DescriptionStyleModel",
          "state": {
            "_view_name": "StyleView",
            "_model_name": "DescriptionStyleModel",
            "description_width": "",
            "_view_module": "@jupyter-widgets/base",
            "_model_module_version": "1.5.0",
            "_view_count": null,
            "_view_module_version": "1.2.0",
            "_model_module": "@jupyter-widgets/controls"
          }
        },
        "6879836ab48c4a2f98295ac56133c034": {
          "model_module": "@jupyter-widgets/base",
          "model_name": "LayoutModel",
          "state": {
            "_view_name": "LayoutView",
            "grid_template_rows": null,
            "right": null,
            "justify_content": null,
            "_view_module": "@jupyter-widgets/base",
            "overflow": null,
            "_model_module_version": "1.2.0",
            "_view_count": null,
            "flex_flow": null,
            "width": null,
            "min_width": null,
            "border": null,
            "align_items": null,
            "bottom": null,
            "_model_module": "@jupyter-widgets/base",
            "top": null,
            "grid_column": null,
            "overflow_y": null,
            "overflow_x": null,
            "grid_auto_flow": null,
            "grid_area": null,
            "grid_template_columns": null,
            "flex": null,
            "_model_name": "LayoutModel",
            "justify_items": null,
            "grid_row": null,
            "max_height": null,
            "align_content": null,
            "visibility": null,
            "align_self": null,
            "height": null,
            "min_height": null,
            "padding": null,
            "grid_auto_rows": null,
            "grid_gap": null,
            "max_width": null,
            "order": null,
            "_view_module_version": "1.2.0",
            "grid_template_areas": null,
            "object_position": null,
            "object_fit": null,
            "grid_auto_columns": null,
            "margin": null,
            "display": null,
            "left": null
          }
        }
      }
    }
  },
  "cells": [
    {
      "cell_type": "markdown",
      "metadata": {
        "id": "wzsom_5loXjB"
      },
      "source": [
        "# Get and cluster podcasts descriptions embeddings"
      ]
    },
    {
      "cell_type": "markdown",
      "metadata": {
        "id": "g-PY5tRjoiB3"
      },
      "source": [
        "## Prepare environment"
      ]
    },
    {
      "cell_type": "code",
      "metadata": {
        "colab": {
          "base_uri": "https://localhost:8080/"
        },
        "id": "5YWP-9V7oALy",
        "outputId": "ee6a1d91-8328-474a-89ae-41335e53e985"
      },
      "source": [
        "!pip install -q pickle5 podcast-api html2text sentence-transformers"
      ],
      "execution_count": null,
      "outputs": [
        {
          "output_type": "stream",
          "text": [
            "\u001b[K     |████████████████████████████████| 133kB 5.1MB/s \n",
            "\u001b[K     |████████████████████████████████| 389kB 8.4MB/s \n",
            "\u001b[?25h  Installing build dependencies ... \u001b[?25l\u001b[?25hdone\n",
            "  Getting requirements to build wheel ... \u001b[?25l\u001b[?25hdone\n",
            "    Preparing wheel metadata ... \u001b[?25l\u001b[?25hdone\n",
            "\u001b[K     |████████████████████████████████| 81kB 6.3MB/s \n",
            "\u001b[K     |████████████████████████████████| 2.5MB 10.0MB/s \n",
            "\u001b[K     |████████████████████████████████| 1.2MB 47.5MB/s \n",
            "\u001b[K     |████████████████████████████████| 901kB 41.2MB/s \n",
            "\u001b[K     |████████████████████████████████| 3.3MB 41.0MB/s \n",
            "\u001b[?25h  Building wheel for podcast-api (PEP 517) ... \u001b[?25l\u001b[?25hdone\n",
            "  Building wheel for pickle5 (setup.py) ... \u001b[?25l\u001b[?25hdone\n",
            "  Building wheel for sentence-transformers (setup.py) ... \u001b[?25l\u001b[?25hdone\n"
          ],
          "name": "stdout"
        }
      ]
    },
    {
      "cell_type": "code",
      "metadata": {
        "colab": {
          "base_uri": "https://localhost:8080/"
        },
        "id": "gu8TuDezoPpI",
        "outputId": "3cc170b9-c07e-402c-84e8-423cc80928a4"
      },
      "source": [
        "from google.colab import drive\n",
        "drive.mount(\"/content/drive\")"
      ],
      "execution_count": null,
      "outputs": [
        {
          "output_type": "stream",
          "text": [
            "Mounted at /content/drive\n"
          ],
          "name": "stdout"
        }
      ]
    },
    {
      "cell_type": "code",
      "metadata": {
        "colab": {
          "base_uri": "https://localhost:8080/"
        },
        "id": "LKb2TAuzoK-L",
        "outputId": "8704920b-ba24-4b4c-fdf1-7be73195d5ed"
      },
      "source": [
        "%cd /content/drive/MyDrive/Coursework"
      ],
      "execution_count": null,
      "outputs": [
        {
          "output_type": "stream",
          "text": [
            "/content/drive/MyDrive/Coursework\n"
          ],
          "name": "stdout"
        }
      ]
    },
    {
      "cell_type": "code",
      "metadata": {
        "colab": {
          "base_uri": "https://localhost:8080/",
          "height": 66,
          "referenced_widgets": [
            "15149c5bbfa34d7c8e2cc825dc6fb624",
            "429f3767a81c4ec69ce1b2eff5a1c644",
            "d92b3748a9c64584b8624e5ba65d49e9",
            "e9a31b084971481f99d0cd9bff2e1ceb",
            "595e31dbfbcd4d14b699876bd1a7f50f",
            "0a182ba02a9a44b089a925f822bba98a",
            "038d9328acd54b89bdc11f872b1f0908",
            "57be56ef6ed247c7ad14a01bcb41605d"
          ]
        },
        "id": "NeyWbublU0Uv",
        "outputId": "b7b5b787-c783-43f0-84f4-def99cb1dac9"
      },
      "source": [
        "from sentence_transformers import SentenceTransformer\n",
        "import numpy as np\n",
        "\n",
        "emb_model = SentenceTransformer('paraphrase-xlm-r-multilingual-v1')"
      ],
      "execution_count": null,
      "outputs": [
        {
          "output_type": "display_data",
          "data": {
            "application/vnd.jupyter.widget-view+json": {
              "model_id": "15149c5bbfa34d7c8e2cc825dc6fb624",
              "version_minor": 0,
              "version_major": 2
            },
            "text/plain": [
              "HBox(children=(FloatProgress(value=0.0, max=1014059776.0), HTML(value='')))"
            ]
          },
          "metadata": {
            "tags": []
          }
        },
        {
          "output_type": "stream",
          "text": [
            "\n"
          ],
          "name": "stdout"
        }
      ]
    },
    {
      "cell_type": "code",
      "metadata": {
        "id": "ipvVJVMsoBSx"
      },
      "source": [
        "import re\n",
        "import os\n",
        "import pickle5 as pickle\n",
        "import pandas as pd\n",
        "\n",
        "from copy import copy\n",
        "from tqdm.notebook import tqdm\n",
        "from listennotes import podcast_api\n",
        "from credentials import listennotes_key\n",
        "\n",
        "client = podcast_api.Client(api_key=listennotes_key)"
      ],
      "execution_count": null,
      "outputs": []
    },
    {
      "cell_type": "code",
      "metadata": {
        "id": "2j6qEShwRA7O"
      },
      "source": [
        "import re\n",
        "import html2text\n",
        "\n",
        "h = html2text.HTML2Text()\n",
        "\n",
        "h.unicode_snob = True\n",
        "h.use_automatic_links = True\n",
        "h.ignore_links = False\n",
        "h.emphasis_mark = \"\"\n",
        "h.strong_mark = \"\"\n",
        "\n",
        "def dehtmlify(qhtml, h=h, despacify=True):\n",
        "    res = h.handle(qhtml)\n",
        "    res = re.sub(r\"\\[.*?\\(javascript:void\\\\\\(0\\\\\\)\\).*?\\]\", \" \", res)\n",
        "    res = re.sub(r\":(\\W)\", r\": \\1\", res)\n",
        "    res = re.sub(r\"!\\[\\]\\((.*?)\\)\", r\"\\1\", res)\n",
        "    res = re.sub(r\"(https?:)\\s\", r\"\\1\", res)\n",
        "    res = res.replace(\"\\.\", \".\")\n",
        "    if despacify:\n",
        "      res = re.sub(r\"\\s+\", \" \", res).strip()\n",
        "    return res"
      ],
      "execution_count": null,
      "outputs": []
    },
    {
      "cell_type": "markdown",
      "metadata": {
        "id": "KRPb9EMcokXN"
      },
      "source": [
        "## Get descriptions"
      ]
    },
    {
      "cell_type": "code",
      "metadata": {
        "colab": {
          "base_uri": "https://localhost:8080/",
          "height": 417
        },
        "id": "mLqzIRfWomsw",
        "outputId": "1bed7c7a-5e73-41ea-c124-fdbe6aa89230"
      },
      "source": [
        "with open(\"jingles_df.pkl\", \"rb\") as inp:\n",
        "  jingles_df = pickle.load(inp)\n",
        "jselect_df = jingles_df.loc[jingles_df[\"j_status\"].isin([\"+\", \"2\", \"!!\", 2])].reset_index(drop=True)\n",
        "jdf = pd.read_csv(\"collection_final.csv\")\n",
        "jdf = jselect_df.loc[[list(jselect_df[\"title\"]).index(t) for t in list(jdf[\"title\"])]].reset_index(drop=True)\n",
        "jdf"
      ],
      "execution_count": null,
      "outputs": [
        {
          "output_type": "execute_result",
          "data": {
            "text/html": [
              "<div>\n",
              "<style scoped>\n",
              "    .dataframe tbody tr th:only-of-type {\n",
              "        vertical-align: middle;\n",
              "    }\n",
              "\n",
              "    .dataframe tbody tr th {\n",
              "        vertical-align: top;\n",
              "    }\n",
              "\n",
              "    .dataframe thead th {\n",
              "        text-align: right;\n",
              "    }\n",
              "</style>\n",
              "<table border=\"1\" class=\"dataframe\">\n",
              "  <thead>\n",
              "    <tr style=\"text-align: right;\">\n",
              "      <th></th>\n",
              "      <th>j_status</th>\n",
              "      <th>title</th>\n",
              "      <th>category_ln</th>\n",
              "      <th>category_yp</th>\n",
              "      <th>ln_id</th>\n",
              "    </tr>\n",
              "  </thead>\n",
              "  <tbody>\n",
              "    <tr>\n",
              "      <th>0</th>\n",
              "      <td>+</td>\n",
              "      <td>Маркетинговая рубка</td>\n",
              "      <td>Бизнес</td>\n",
              "      <td>Бизнес и работа</td>\n",
              "      <td>918b1878324748feb228a8a1b5f917ee</td>\n",
              "    </tr>\n",
              "    <tr>\n",
              "      <th>1</th>\n",
              "      <td>+</td>\n",
              "      <td>Богема и Маркетинг</td>\n",
              "      <td>Бизнес</td>\n",
              "      <td>Бизнес и работа</td>\n",
              "      <td>70deb321ab2a4375abd376186a7ce977</td>\n",
              "    </tr>\n",
              "    <tr>\n",
              "      <th>2</th>\n",
              "      <td>+</td>\n",
              "      <td>Взяла и сделала</td>\n",
              "      <td>Бизнес</td>\n",
              "      <td>Бизнес и работа</td>\n",
              "      <td>8095bace4866436daff4a2519472d8b1</td>\n",
              "    </tr>\n",
              "    <tr>\n",
              "      <th>3</th>\n",
              "      <td>+</td>\n",
              "      <td>Нормальные деньги</td>\n",
              "      <td>Бизнес</td>\n",
              "      <td>Бизнес и работа</td>\n",
              "      <td>cc2ae7ae652f457da662efb1adb53a0d</td>\n",
              "    </tr>\n",
              "    <tr>\n",
              "      <th>4</th>\n",
              "      <td>+</td>\n",
              "      <td>ПЛЮС-МИНУС ДЕНЬГИ</td>\n",
              "      <td>Бизнес</td>\n",
              "      <td>Бизнес и работа</td>\n",
              "      <td>f876739f37724fc3bd8241bf008b9c28</td>\n",
              "    </tr>\n",
              "    <tr>\n",
              "      <th>...</th>\n",
              "      <td>...</td>\n",
              "      <td>...</td>\n",
              "      <td>...</td>\n",
              "      <td>...</td>\n",
              "      <td>...</td>\n",
              "    </tr>\n",
              "    <tr>\n",
              "      <th>86</th>\n",
              "      <td>+</td>\n",
              "      <td>Вне игры</td>\n",
              "      <td>Спорт</td>\n",
              "      <td>Спорт</td>\n",
              "      <td>b7338a9e056a4ec58be5c173b2ee9e42</td>\n",
              "    </tr>\n",
              "    <tr>\n",
              "      <th>87</th>\n",
              "      <td>+</td>\n",
              "      <td>Наш Чемп</td>\n",
              "      <td>Спорт</td>\n",
              "      <td>Спорт</td>\n",
              "      <td>d1095ebdbbe54fb986165dbc926eeb64</td>\n",
              "    </tr>\n",
              "    <tr>\n",
              "      <th>88</th>\n",
              "      <td>+</td>\n",
              "      <td>Дешифратор</td>\n",
              "      <td>Спорт</td>\n",
              "      <td>Спорт</td>\n",
              "      <td>78159c5340b84f2eb3e1f2e9cb4796a1</td>\n",
              "    </tr>\n",
              "    <tr>\n",
              "      <th>89</th>\n",
              "      <td>+</td>\n",
              "      <td>Футбольный механизм</td>\n",
              "      <td>Спорт</td>\n",
              "      <td>Спорт</td>\n",
              "      <td>356a490328ff45bdb4b05965ce92b132</td>\n",
              "    </tr>\n",
              "    <tr>\n",
              "      <th>90</th>\n",
              "      <td>+</td>\n",
              "      <td>Подкастный Акцент</td>\n",
              "      <td>Спорт</td>\n",
              "      <td>Спорт</td>\n",
              "      <td>2adab6376d2947848969c7dba9282de2</td>\n",
              "    </tr>\n",
              "  </tbody>\n",
              "</table>\n",
              "<p>91 rows × 5 columns</p>\n",
              "</div>"
            ],
            "text/plain": [
              "   j_status  ...                             ln_id\n",
              "0         +  ...  918b1878324748feb228a8a1b5f917ee\n",
              "1         +  ...  70deb321ab2a4375abd376186a7ce977\n",
              "2         +  ...  8095bace4866436daff4a2519472d8b1\n",
              "3         +  ...  cc2ae7ae652f457da662efb1adb53a0d\n",
              "4         +  ...  f876739f37724fc3bd8241bf008b9c28\n",
              "..      ...  ...                               ...\n",
              "86        +  ...  b7338a9e056a4ec58be5c173b2ee9e42\n",
              "87        +  ...  d1095ebdbbe54fb986165dbc926eeb64\n",
              "88        +  ...  78159c5340b84f2eb3e1f2e9cb4796a1\n",
              "89        +  ...  356a490328ff45bdb4b05965ce92b132\n",
              "90        +  ...  2adab6376d2947848969c7dba9282de2\n",
              "\n",
              "[91 rows x 5 columns]"
            ]
          },
          "metadata": {
            "tags": []
          },
          "execution_count": 9
        }
      ]
    },
    {
      "cell_type": "code",
      "metadata": {
        "colab": {
          "base_uri": "https://localhost:8080/",
          "height": 66,
          "referenced_widgets": [
            "8784846e403f43d8bcf7c27c5137ea62",
            "7f5e85d20457432ba287d95d8d605376",
            "9cf1d83baf954d17a368d16bc5be3222",
            "e1c61ec5636149feb895713e79d42916",
            "d0275df212d34b9687e1dfb27f83b8e2",
            "bab50c9b5aeb4c99805cc68e251a5791",
            "50fcb44999634b3987ed5b6b0127b235",
            "94c782a83f0448b787e66333a7e1b1a8"
          ]
        },
        "id": "9Sw71XF_orPI",
        "outputId": "0020c52c-d4b8-40c2-e84d-36ba94d6a9a9"
      },
      "source": [
        "#!mkdir jingles\n",
        "\n",
        "dstruct = {}\n",
        "\n",
        "for pid in tqdm(list(jdf[\"ln_id\"])):\n",
        "\n",
        "  response = client.fetch_podcast_by_id(\n",
        "    id = pid,\n",
        "    sort = 'recent_first'\n",
        "  )\n",
        "  rjson = response.json()\n",
        "\n",
        "  descriptions = list(set([dehtmlify(rjson[\"description\"])] + [dehtmlify(e[\"description\"]) for e in rjson[\"episodes\"]]))\n",
        "  dstruct[pid] = copy(descriptions)"
      ],
      "execution_count": null,
      "outputs": [
        {
          "output_type": "display_data",
          "data": {
            "application/vnd.jupyter.widget-view+json": {
              "model_id": "8784846e403f43d8bcf7c27c5137ea62",
              "version_minor": 0,
              "version_major": 2
            },
            "text/plain": [
              "HBox(children=(FloatProgress(value=0.0, max=91.0), HTML(value='')))"
            ]
          },
          "metadata": {
            "tags": []
          }
        },
        {
          "output_type": "stream",
          "text": [
            "\n"
          ],
          "name": "stdout"
        }
      ]
    },
    {
      "cell_type": "code",
      "metadata": {
        "id": "MC-qh_B2UPt-"
      },
      "source": [
        "with open(\"dstruct.pkl\", \"wb\") as outp:\n",
        "  pickle.dump(dstruct, outp)"
      ],
      "execution_count": null,
      "outputs": []
    },
    {
      "cell_type": "markdown",
      "metadata": {
        "id": "uJMx7rK3WZv7"
      },
      "source": [
        "## Get embedding centres"
      ]
    },
    {
      "cell_type": "code",
      "metadata": {
        "colab": {
          "base_uri": "https://localhost:8080/",
          "height": 66,
          "referenced_widgets": [
            "aac494eef9754abe8e2b187ea1421130",
            "9ad507ff14ca4eb5ac3511810673dcba",
            "72c8c09bdcb74f56921620b503694f6c",
            "f76e41d0e0b245278dae668da2badfc6",
            "80b127703d244e58946541d4213d979b",
            "60577dfd352f446eb80e8cfeab453b37",
            "a1516d7948cc4045909072bf053b2d8f",
            "6879836ab48c4a2f98295ac56133c034"
          ]
        },
        "id": "9zyKT2HtVlYJ",
        "outputId": "7b876141-23a8-4533-fec5-7a83be92591f"
      },
      "source": [
        "embs = [np.mean(emb_model.encode(dstruct[pid]), axis=0) for pid in tqdm(list(jdf[\"ln_id\"]))]"
      ],
      "execution_count": null,
      "outputs": [
        {
          "output_type": "display_data",
          "data": {
            "application/vnd.jupyter.widget-view+json": {
              "model_id": "aac494eef9754abe8e2b187ea1421130",
              "version_minor": 0,
              "version_major": 2
            },
            "text/plain": [
              "HBox(children=(FloatProgress(value=0.0, max=91.0), HTML(value='')))"
            ]
          },
          "metadata": {
            "tags": []
          }
        },
        {
          "output_type": "stream",
          "text": [
            "\n"
          ],
          "name": "stdout"
        }
      ]
    },
    {
      "cell_type": "markdown",
      "metadata": {
        "id": "zqiUgq1wWf74"
      },
      "source": [
        "## Get clusters"
      ]
    },
    {
      "cell_type": "code",
      "metadata": {
        "colab": {
          "base_uri": "https://localhost:8080/"
        },
        "id": "iULn8dYcWffj",
        "outputId": "bb708eec-0425-4b43-f423-117322559493"
      },
      "source": [
        "from sklearn.cluster import KMeans\n",
        "\n",
        "clusterer = KMeans(n_clusters=8, random_state=42)\n",
        "clusterer.fit(embs)\n",
        "\n",
        "labels = clusterer.labels_\n",
        "labels"
      ],
      "execution_count": null,
      "outputs": [
        {
          "output_type": "execute_result",
          "data": {
            "text/plain": [
              "array([2, 2, 1, 2, 2, 1, 4, 2, 2, 2, 2, 1, 2, 2, 2, 2, 1, 1, 1, 1, 1, 3,\n",
              "       3, 1, 4, 1, 3, 1, 1, 5, 0, 7, 2, 3, 7, 3, 3, 3, 0, 7, 0, 7, 0, 6,\n",
              "       7, 6, 7, 5, 0, 0, 6, 2, 3, 6, 6, 6, 5, 2, 6, 3, 6, 2, 6, 3, 3, 0,\n",
              "       1, 3, 2, 3, 6, 6, 2, 3, 2, 1, 2, 5, 5, 5, 1, 4, 4, 0, 1, 5, 4, 4,\n",
              "       5, 4, 5], dtype=int32)"
            ]
          },
          "metadata": {
            "tags": []
          },
          "execution_count": 11
        }
      ]
    },
    {
      "cell_type": "code",
      "metadata": {
        "id": "aWwAa0QyXMC5"
      },
      "source": [
        "df = pd.read_csv(\"collection_final.csv\")\n",
        "df[\"embeddings_clusters\"] = labels\n",
        "df.to_csv(\"collection_final.csv\", index=False)"
      ],
      "execution_count": null,
      "outputs": []
    }
  ]
}