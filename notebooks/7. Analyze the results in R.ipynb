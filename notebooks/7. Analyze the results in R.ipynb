{
  "nbformat": 4,
  "nbformat_minor": 0,
  "metadata": {
    "colab": {
      "name": "[coursework] analyzing in R.ipynb",
      "provenance": [],
      "collapsed_sections": []
    },
    "kernelspec": {
      "name": "ir",
      "display_name": "R"
    },
    "language_info": {
      "name": "R"
    }
  },
  "cells": [
    {
      "cell_type": "markdown",
      "metadata": {
        "id": "BcxYWWeGaST1"
      },
      "source": [
        "# Analyze the results in R"
      ]
    },
    {
      "cell_type": "code",
      "metadata": {
        "colab": {
          "base_uri": "https://localhost:8080/"
        },
        "id": "SC9In2Popw4S",
        "outputId": "d0e09a79-1ea6-4f37-cc1d-921163848d8c"
      },
      "source": [
        "install.packages(c(\"clusteval\", \"fpc\", \"stargazer\"))"
      ],
      "execution_count": null,
      "outputs": [
        {
          "output_type": "stream",
          "text": [
            "Installing packages into ‘/usr/local/lib/R/site-library’\n",
            "(as ‘lib’ is unspecified)\n",
            "\n",
            "also installing the dependencies ‘modeltools’, ‘DEoptimR’, ‘mvtnorm’, ‘mclust’, ‘flexmix’, ‘prabclus’, ‘diptest’, ‘robustbase’, ‘kernlab’\n",
            "\n",
            "\n"
          ],
          "name": "stderr"
        }
      ]
    },
    {
      "cell_type": "code",
      "metadata": {
        "colab": {
          "base_uri": "https://localhost:8080/"
        },
        "id": "m_R3o3APqQ7N",
        "outputId": "b974b158-07aa-4794-aba4-8a2b33628d70"
      },
      "source": [
        "library(clusteval)\n",
        "library(nnet)\n",
        "library(stargazer)"
      ],
      "execution_count": null,
      "outputs": [
        {
          "output_type": "stream",
          "text": [
            "\n",
            "Please cite as: \n",
            "\n",
            "\n",
            " Hlavac, Marek (2018). stargazer: Well-Formatted Regression and Summary Statistics Tables.\n",
            "\n",
            " R package version 5.2.2. https://CRAN.R-project.org/package=stargazer \n",
            "\n",
            "\n"
          ],
          "name": "stderr"
        }
      ]
    },
    {
      "cell_type": "code",
      "metadata": {
        "id": "SJOexhG-2Bov"
      },
      "source": [
        "jdf <- read.csv(\"collection_final.csv\")\n",
        "jdf$cat <- as.numeric(factor(jdf$category))"
      ],
      "execution_count": null,
      "outputs": []
    },
    {
      "cell_type": "markdown",
      "metadata": {
        "id": "deLFoGKvwfIY"
      },
      "source": [
        "## Cluster similarity test"
      ]
    },
    {
      "cell_type": "markdown",
      "metadata": {
        "id": "2Evb61jTSGdo"
      },
      "source": [
        "Between Yandex categories and Sentence Transformers embedding clusters"
      ]
    },
    {
      "cell_type": "code",
      "metadata": {
        "colab": {
          "base_uri": "https://localhost:8080/",
          "height": 34
        },
        "id": "gj48i_sYqt7-",
        "outputId": "a4f3d0fa-bf46-4563-9f89-04d6dd4c7ccd"
      },
      "source": [
        "cluster_similarity(jdf$cat, jdf$embeddings_clusters)"
      ],
      "execution_count": null,
      "outputs": [
        {
          "output_type": "display_data",
          "data": {
            "text/plain": [
              "[1] 0.205618"
            ],
            "text/latex": "0.20561797752809",
            "text/markdown": "0.20561797752809",
            "text/html": [
              "0.20561797752809"
            ]
          },
          "metadata": {
            "tags": []
          }
        }
      ]
    },
    {
      "cell_type": "markdown",
      "metadata": {
        "id": "q7MJyByZSP5M"
      },
      "source": [
        "Between Yandex categories and jingles' clusters"
      ]
    },
    {
      "cell_type": "code",
      "metadata": {
        "colab": {
          "base_uri": "https://localhost:8080/",
          "height": 34
        },
        "id": "nY3YTi5ArIAk",
        "outputId": "1847bbea-4e9c-4c3c-bb56-dff0b1b3d931"
      },
      "source": [
        "cluster_similarity(jdf$cat, jdf$kmeans_clusters)"
      ],
      "execution_count": null,
      "outputs": [
        {
          "output_type": "display_data",
          "data": {
            "text/plain": [
              "[1] 0.09075488"
            ],
            "text/latex": "0.090754877014419",
            "text/markdown": "0.090754877014419",
            "text/html": [
              "0.090754877014419"
            ]
          },
          "metadata": {
            "tags": []
          }
        }
      ]
    },
    {
      "cell_type": "markdown",
      "metadata": {
        "id": "1bxS2dAYSTeW"
      },
      "source": [
        "Between Sentence Transformers embedding clusters and jingles' clusters"
      ]
    },
    {
      "cell_type": "code",
      "metadata": {
        "colab": {
          "base_uri": "https://localhost:8080/",
          "height": 34
        },
        "id": "hnICJCA0qfoj",
        "outputId": "baa0ebc1-6e2f-4d02-923f-43f51ce2416c"
      },
      "source": [
        "cluster_similarity(jdf$embeddings_clusters, jdf$kmeans_clusters)"
      ],
      "execution_count": null,
      "outputs": [
        {
          "output_type": "display_data",
          "data": {
            "text/plain": [
              "[1] 0.07811229"
            ],
            "text/latex": "0.0781122864117168",
            "text/markdown": "0.0781122864117168",
            "text/html": [
              "0.0781122864117168"
            ]
          },
          "metadata": {
            "tags": []
          }
        }
      ]
    },
    {
      "cell_type": "markdown",
      "metadata": {
        "id": "m5CitxtnwcjL"
      },
      "source": [
        "## Multinomial regression on important measures"
      ]
    },
    {
      "cell_type": "code",
      "metadata": {
        "colab": {
          "base_uri": "https://localhost:8080/"
        },
        "id": "ANn1tCo2uQIu",
        "outputId": "c34dfae4-7667-4216-f2ee-8f8a89961f80"
      },
      "source": [
        "mlm <- multinom(category ~ harmony_mean + harmony_var + tempo + mfcc11_mean + mfcc11_var + mfcc15_var + mfcc16_var + mfcc20_mean + mfcc20_var, data = jdf)"
      ],
      "execution_count": null,
      "outputs": [
        {
          "output_type": "stream",
          "text": [
            "# weights:  88 (70 variable)\n",
            "initial  value 189.229180 \n",
            "iter  10 value 163.616884\n",
            "iter  20 value 160.029506\n",
            "iter  30 value 159.612944\n",
            "iter  40 value 152.069936\n",
            "iter  50 value 146.082351\n",
            "iter  60 value 142.362022\n",
            "iter  70 value 141.602613\n",
            "iter  80 value 139.597830\n",
            "iter  90 value 138.977186\n",
            "iter 100 value 138.426876\n",
            "final  value 138.426876 \n",
            "stopped after 100 iterations\n"
          ],
          "name": "stdout"
        }
      ]
    },
    {
      "cell_type": "code",
      "metadata": {
        "colab": {
          "base_uri": "https://localhost:8080/",
          "height": 1000
        },
        "id": "TagTRce0uLbp",
        "outputId": "4d693bb9-dbe5-4530-815f-ccb9e2bea686"
      },
      "source": [
        "summary(mlm)"
      ],
      "execution_count": null,
      "outputs": [
        {
          "output_type": "display_data",
          "data": {
            "text/plain": [
              "Call:\n",
              "multinom(formula = category ~ harmony_mean + harmony_var + tempo + \n",
              "    mfcc11_mean + mfcc11_var + mfcc15_var + mfcc16_var + mfcc20_mean + \n",
              "    mfcc20_var, data = jdf)\n",
              "\n",
              "Coefficients:\n",
              "                     (Intercept) harmony_mean harmony_var         tempo\n",
              "Здоровье и лайфстайл   7.2714347  -5.07614819   -89.90962 -0.0336890334\n",
              "Искусство             -1.9546500   0.56202191   -44.53341  0.0148083043\n",
              "Кино и сериалы         1.1368454   0.83702884   -26.87237 -0.0009052703\n",
              "Музыка                -0.7834154  -0.43061323   -11.01308  0.0113390868\n",
              "Наука и образование    6.5771181  -0.95172179   -15.56022 -0.0034485909\n",
              "Общество и культура    4.3009095  -0.07721065   -75.88847 -0.0272995782\n",
              "Спорт                  5.1979137   3.66282000   -18.02946  0.0169766664\n",
              "                      mfcc11_mean   mfcc11_var    mfcc15_var   mfcc16_var\n",
              "Здоровье и лайфстайл  0.103312837  0.019648558 -0.0520569305 -0.023018360\n",
              "Искусство            -0.066211209  0.015911647 -0.0320080394  0.007711275\n",
              "Кино и сериалы       -0.005948300 -0.001213766 -0.0004203625 -0.002644689\n",
              "Музыка               -0.001478538 -0.014493919  0.0117081842 -0.012718243\n",
              "Наука и образование   0.090535357 -0.065128020 -0.0053297555 -0.078718694\n",
              "Общество и культура   0.011781489 -0.017416788  0.0303708205 -0.012336611\n",
              "Спорт                 0.038646958 -0.034373148  0.0051487383 -0.070273979\n",
              "                      mfcc20_mean   mfcc20_var\n",
              "Здоровье и лайфстайл  0.085286771  0.001039423\n",
              "Искусство            -0.053994574 -0.011571170\n",
              "Кино и сериалы        0.028542574 -0.010248255\n",
              "Музыка                0.009674346 -0.002474687\n",
              "Наука и образование   0.175428996  0.046904418\n",
              "Общество и культура   0.036877522 -0.005279165\n",
              "Спорт                 0.237214428 -0.018594704\n",
              "\n",
              "Std. Errors:\n",
              "                     (Intercept) harmony_mean harmony_var      tempo\n",
              "Здоровье и лайфстайл    3.096094 0.0010436208  0.02870020 0.02170438\n",
              "Искусство               3.450687 0.0027313899  0.04072622 0.02188832\n",
              "Кино и сериалы          2.563864 0.0007999883  0.12041674 0.01612140\n",
              "Музыка                  3.127684 0.0021154745  0.18011250 0.01863911\n",
              "Наука и образование     3.445066 0.0025711925  0.08596771 0.02087150\n",
              "Общество и культура     2.683813 0.0002801566  0.04523115 0.01750312\n",
              "Спорт                   2.821670 0.0035714535  0.27535477 0.01746515\n",
              "                     mfcc11_mean mfcc11_var mfcc15_var mfcc16_var mfcc20_mean\n",
              "Здоровье и лайфстайл  0.07379365 0.01412762 0.03555844 0.02448267   0.1234273\n",
              "Искусство             0.07519911 0.01316493 0.02515397 0.02353699   0.1253783\n",
              "Кино и сериалы        0.06181661 0.01057868 0.01829877 0.01867692   0.1040392\n",
              "Музыка                0.07942961 0.01701226 0.02519060 0.02616231   0.1348598\n",
              "Наука и образование   0.10422842 0.02986886 0.03164119 0.04217946   0.1583705\n",
              "Общество и культура   0.06481599 0.01166099 0.01903650 0.01828129   0.1066038\n",
              "Спорт                 0.07475514 0.01859904 0.03200273 0.04231394   0.1305595\n",
              "                     mfcc20_var\n",
              "Здоровье и лайфстайл 0.02764401\n",
              "Искусство            0.03123792\n",
              "Кино и сериалы       0.02396681\n",
              "Музыка               0.02877519\n",
              "Наука и образование  0.03252800\n",
              "Общество и культура  0.02218888\n",
              "Спорт                0.02728454\n",
              "\n",
              "Residual Deviance: 276.8538 \n",
              "AIC: 416.8538 "
            ]
          },
          "metadata": {
            "tags": []
          }
        }
      ]
    },
    {
      "cell_type": "code",
      "metadata": {
        "colab": {
          "base_uri": "https://localhost:8080/"
        },
        "id": "JyQ8Z3JdvRpe",
        "outputId": "c23dba20-c45b-47bc-bb33-0bac77c7a1fe"
      },
      "source": [
        "stargazer(mlm, type=\"text\")"
      ],
      "execution_count": null,
      "outputs": [
        {
          "output_type": "stream",
          "text": [
            "\n",
            "==============================================================================================================================\n",
            "                                                              Dependent variable:                                             \n",
            "                  ------------------------------------------------------------------------------------------------------------\n",
            "                  Здоровье и лайфстайл Искусство  Кино и сериалы   Музыка   Наука и образование Общество и культура   Спорт   \n",
            "                          (1)             (2)          (3)          (4)             (5)                 (6)            (7)    \n",
            "------------------------------------------------------------------------------------------------------------------------------\n",
            "harmony_mean           -5.076***        0.562***     0.837***    -0.431***       -0.952***           -0.077***       3.663*** \n",
            "                        (0.001)         (0.003)      (0.001)      (0.002)         (0.003)            (0.0003)        (0.004)  \n",
            "                                                                                                                              \n",
            "harmony_var            -89.910***      -44.533***   -26.872***   -11.013***     -15.560***          -75.888***      -18.029***\n",
            "                        (0.029)         (0.041)      (0.120)      (0.180)         (0.086)             (0.045)        (0.275)  \n",
            "                                                                                                                              \n",
            "tempo                    -0.034          0.015        -0.001       0.011          -0.003              -0.027          0.017   \n",
            "                        (0.022)         (0.022)      (0.016)      (0.019)         (0.021)             (0.018)        (0.017)  \n",
            "                                                                                                                              \n",
            "mfcc11_mean              0.103           -0.066       -0.006       -0.001          0.091               0.012          0.039   \n",
            "                        (0.074)         (0.075)      (0.062)      (0.079)         (0.104)             (0.065)        (0.075)  \n",
            "                                                                                                                              \n",
            "mfcc11_var               0.020           0.016        -0.001       -0.014        -0.065**             -0.017         -0.034*  \n",
            "                        (0.014)         (0.013)      (0.011)      (0.017)         (0.030)             (0.012)        (0.019)  \n",
            "                                                                                                                              \n",
            "mfcc15_var               -0.052          -0.032      -0.0004       0.012          -0.005               0.030          0.005   \n",
            "                        (0.036)         (0.025)      (0.018)      (0.025)         (0.032)             (0.019)        (0.032)  \n",
            "                                                                                                                              \n",
            "mfcc16_var               -0.023          0.008        -0.003       -0.013         -0.079*             -0.012         -0.070*  \n",
            "                        (0.024)         (0.024)      (0.019)      (0.026)         (0.042)             (0.018)        (0.042)  \n",
            "                                                                                                                              \n",
            "mfcc20_mean              0.085           -0.054       0.029        0.010           0.175               0.037          0.237*  \n",
            "                        (0.123)         (0.125)      (0.104)      (0.135)         (0.158)             (0.107)        (0.131)  \n",
            "                                                                                                                              \n",
            "mfcc20_var               0.001           -0.012       -0.010       -0.002          0.047              -0.005          -0.019  \n",
            "                        (0.028)         (0.031)      (0.024)      (0.029)         (0.033)             (0.022)        (0.027)  \n",
            "                                                                                                                              \n",
            "Constant                7.271**          -1.955       1.137        -0.783         6.577*               4.301          5.198*  \n",
            "                        (3.096)         (3.451)      (2.564)      (3.128)         (3.445)             (2.684)        (2.822)  \n",
            "                                                                                                                              \n",
            "------------------------------------------------------------------------------------------------------------------------------\n",
            "Akaike Inf. Crit.       416.854         416.854      416.854      416.854         416.854             416.854        416.854  \n",
            "==============================================================================================================================\n",
            "Note:                                                                                              *p<0.1; **p<0.05; ***p<0.01\n"
          ],
          "name": "stdout"
        }
      ]
    }
  ]
}